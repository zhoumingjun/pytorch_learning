{
 "cells": [
  {
   "cell_type": "code",
   "execution_count": null,
   "metadata": {
    "collapsed": true
   },
   "outputs": [],
   "source": [
    "import torch\n",
    "from torch.autograd import Variable\n",
    "from torch import nn\n",
    "import torch.optim as optim"
   ]
  },
  {
   "cell_type": "markdown",
   "metadata": {},
   "source": [
    "# Internal"
   ]
  },
  {
   "cell_type": "code",
   "execution_count": null,
   "metadata": {
    "collapsed": false
   },
   "outputs": [],
   "source": [
    "net = nn.Linear(2,3)\n",
    "net.weight.data = torch.Tensor([[1,1],[1,1],[2,2]])\n",
    "net.bias.data = torch.Tensor([0.1, 0.2, 0.3])\n",
    "input =  Variable(torch.Tensor([[1,1],[2,2]]))\n",
    "net(input)"
   ]
  },
  {
   "cell_type": "markdown",
   "metadata": {
    "collapsed": false
   },
   "source": [
    "# nn.Linear\n",
    "\n",
    "The linear is used to classify the 2d data into four-quadrant\n",
    "[1,1],[-1,1],[-1,-1],[1,-1]\n",
    "0,1,2,3"
   ]
  },
  {
   "cell_type": "code",
   "execution_count": null,
   "metadata": {
    "collapsed": false
   },
   "outputs": [],
   "source": [
    "#nn\n",
    "net = nn.Linear(2, 4)\n",
    "input=Variable(torch.Tensor([[1,1],[-1,1],[-1,-1],[1,-1],[10,1],[-10,1],[-10,-1],[10,-1],[1,10],[-1,10],[-1,-10],[1,-10]]))\n",
    "target=Variable(torch.LongTensor([0,1,2,3 ,0,1,2,3 ,0,1,2,3 ]))\n",
    "criterion=nn.CrossEntropyLoss()\n",
    "optimizer = optim.Adam(net.parameters(), lr=0.01)"
   ]
  },
  {
   "cell_type": "code",
   "execution_count": null,
   "metadata": {
    "collapsed": true
   },
   "outputs": [],
   "source": [
    "#train\n",
    "for i in range(1000):\n",
    "    optimizer.zero_grad()\n",
    "    \n",
    "    output = net(input)\n",
    "    loss = criterion(output, target)                   \n",
    "    loss.backward()\n",
    "    \n",
    "    optimizer.step()\n",
    "    print(loss)    "
   ]
  },
  {
   "cell_type": "code",
   "execution_count": null,
   "metadata": {
    "collapsed": false
   },
   "outputs": [],
   "source": [
    "#test\n",
    "output=net(Variable(torch.Tensor([[1.5,1],[-0.5,1],[-1.2,-1],[20,-1] ]),volatile=True))"
   ]
  },
  {
   "cell_type": "code",
   "execution_count": null,
   "metadata": {
    "collapsed": false
   },
   "outputs": [],
   "source": [
    "torch.max(output,1)"
   ]
  }
 ],
 "metadata": {
  "kernelspec": {
   "display_name": "Python 3",
   "language": "python",
   "name": "python3"
  },
  "language_info": {
   "codemirror_mode": {
    "name": "ipython",
    "version": 3
   },
   "file_extension": ".py",
   "mimetype": "text/x-python",
   "name": "python",
   "nbconvert_exporter": "python",
   "pygments_lexer": "ipython3",
   "version": "3.5.2"
  }
 },
 "nbformat": 4,
 "nbformat_minor": 2
}
