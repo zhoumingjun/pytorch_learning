{
 "cells": [
  {
   "cell_type": "code",
<<<<<<< HEAD:internal/3 RNNCell.ipynb
   "execution_count": 2,
=======
   "execution_count": null,
>>>>>>> 8012b7f3953a2474a41caad09e270ea78c22208f:tutorials/3 RNNCell.ipynb
   "metadata": {
    "collapsed": true,
    "deletable": true,
    "editable": true
   },
   "outputs": [],
   "source": [
    "import torch\n",
    "from torch import nn\n",
    "from torch.autograd import Variable"
   ]
  },
  {
   "cell_type": "markdown",
   "metadata": {
    "deletable": true,
    "editable": true
   },
   "source": [
    "# Example"
   ]
  },
  {
   "cell_type": "code",
   "execution_count": null,
   "metadata": {
    "collapsed": false,
    "deletable": true,
    "editable": true
   },
   "outputs": [],
   "source": [
    "szInput = 2\n",
    "szHidden = 4\n",
    "szBatch = 1\n",
    "szBptt = 6\n",
    "\n",
    "rnn = nn.RNNCell(szInput, szHidden, nonlinearity='relu')\n",
    "\n",
    "input = Variable(torch.randn(szBptt, szBatch, szInput))\n",
    "hx = Variable(torch.randn(szBatch, szHidden))\n",
    "output = []\n",
    "for i in range(szBptt):\n",
    "    hx = rnn(input[i], hx)\n",
    "    output.append( hx)\n",
    "\n",
    "print(output)"
   ]
  },
  {
   "cell_type": "markdown",
   "metadata": {
    "deletable": true,
    "editable": true
   },
   "source": [
    "# Internel\n",
    "\n",
    "hy = F.relu(F.linear(input, w_ih, b_ih) + F.linear(hidden, w_hh, b_hh))\n"
   ]
  },
  {
   "cell_type": "code",
   "execution_count": null,
   "metadata": {
    "collapsed": false,
    "deletable": true,
    "editable": true
   },
   "outputs": [],
   "source": [
    "szInput = 2\n",
    "szHidden = 4\n",
    "szBatch = 1\n",
    "szBptt = 6\n",
    "\n",
    "rnn = nn.RNNCell(szInput, szHidden, nonlinearity='relu')\n",
    "\n",
    "#init rnn with specific data\n",
    "rnn.weight_ih.data = torch.Tensor([[1,2,2,1], [1,2,2,1]]).t()\n",
    "rnn.bias_ih.data= torch.Tensor([0.1,0.2,0.3,0.4])\n",
    "rnn.weight_hh.data.fill_(1)\n",
    "rnn.bias_hh.data.fill_(1)\n",
    "\n",
    "input = Variable(torch.Tensor([[[1,2]],[[1,2]],[[1,2]],[[1,2]],[[1,2]],[[1,2]]]))\n",
    "hx = Variable(torch.Tensor([[0,0,0,0]]))\n",
    " \n",
    "output = []\n",
    "for i in range(szBptt):\n",
    "    hx = rnn(input[i], hx)\n",
    "    output.append( hx)\n",
    "print(output)"
   ]
  },
  {
   "cell_type": "code",
   "execution_count": 3,
   "metadata": {
    "collapsed": false
   },
   "outputs": [],
   "source": [
    "rnn = nn.RNNCell(10, 20)\n",
    "input = Variable(torch.randn(6, 3, 10))\n",
    "hx = Variable(torch.randn(3, 20))\n",
    "output = []\n",
    "for i in range(6):\n",
    "    hx = rnn(input[i], hx)\n",
    "    output.append(hx)"
   ]
  },
  {
   "cell_type": "code",
   "execution_count": null,
   "metadata": {
    "collapsed": true,
    "deletable": true,
    "editable": true
   },
   "outputs": [],
   "source": []
  }
 ],
 "metadata": {
  "kernelspec": {
   "display_name": "Python 3",
   "language": "python",
   "name": "python3"
  },
  "language_info": {
   "codemirror_mode": {
    "name": "ipython",
    "version": 3
   },
   "file_extension": ".py",
   "mimetype": "text/x-python",
   "name": "python",
   "nbconvert_exporter": "python",
   "pygments_lexer": "ipython3",
   "version": "3.6.0"
  }
 },
 "nbformat": 4,
 "nbformat_minor": 2
}
