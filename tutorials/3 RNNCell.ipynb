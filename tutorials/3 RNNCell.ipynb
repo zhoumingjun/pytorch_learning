{
 "cells": [
  {
   "cell_type": "code",
   "execution_count": 151,
   "metadata": {
    "collapsed": true
   },
   "outputs": [],
   "source": [
    "import torch\n",
    "from torch import nn\n",
    "from torch.autograd import Variable"
   ]
  },
  {
   "cell_type": "markdown",
   "metadata": {},
   "source": [
    "# Example"
   ]
  },
  {
   "cell_type": "code",
   "execution_count": 152,
   "metadata": {
    "collapsed": false
   },
   "outputs": [
    {
     "name": "stdout",
     "output_type": "stream",
     "text": [
      "[Variable containing:\n",
      " 0.0029  1.1743  0.3639  0.0000\n",
      "[torch.FloatTensor of size 1x4]\n",
      ", Variable containing:\n",
      " 0.5106  0.0000  0.0000  0.2667\n",
      "[torch.FloatTensor of size 1x4]\n",
      ", Variable containing:\n",
      " 0.0000  0.0000  0.0000  0.5051\n",
      "[torch.FloatTensor of size 1x4]\n",
      ", Variable containing:\n",
      " 0.0000  0.0000  0.0000  0.4164\n",
      "[torch.FloatTensor of size 1x4]\n",
      ", Variable containing:\n",
      " 0.7182  0.6076  0.0022  0.0000\n",
      "[torch.FloatTensor of size 1x4]\n",
      ", Variable containing:\n",
      " 0.0895  0.0000  0.0000  0.6055\n",
      "[torch.FloatTensor of size 1x4]\n",
      "]\n"
     ]
    }
   ],
   "source": [
    "szInput = 2\n",
    "szHidden = 4\n",
    "szBatch = 1\n",
    "szBptt = 6\n",
    "\n",
    "rnn = nn.RNNCell(szInput, szHidden, nonlinearity='relu')\n",
    "\n",
    "input = Variable(torch.randn(szBptt, szBatch, szInput))\n",
    "hx = Variable(torch.randn(szBatch, szHidden))\n",
    "output = []\n",
    "for i in range(szBptt):\n",
    "    hx = rnn(input[i], hx)\n",
    "    output.append( hx)\n",
    "\n",
    "print(output)"
   ]
  },
  {
   "cell_type": "markdown",
   "metadata": {},
   "source": [
    "# Internel\n",
    "\n",
    "hy = F.relu(F.linear(input, w_ih, b_ih) + F.linear(hidden, w_hh, b_hh))\n"
   ]
  },
  {
   "cell_type": "code",
   "execution_count": 153,
   "metadata": {
    "collapsed": false
   },
   "outputs": [
    {
     "name": "stdout",
     "output_type": "stream",
     "text": [
      "[Variable containing:\n",
      " 4.1000  7.2000  7.3000  4.4000\n",
      "[torch.FloatTensor of size 1x4]\n",
      ", Variable containing:\n",
      " 27.1000  30.2000  30.3000  27.4000\n",
      "[torch.FloatTensor of size 1x4]\n",
      ", Variable containing:\n",
      " 119.1000  122.2000  122.3000  119.4000\n",
      "[torch.FloatTensor of size 1x4]\n",
      ", Variable containing:\n",
      " 487.1000  490.2000  490.3000  487.4000\n",
      "[torch.FloatTensor of size 1x4]\n",
      ", Variable containing:\n",
      " 1959.1000  1962.2000  1962.3000  1959.4000\n",
      "[torch.FloatTensor of size 1x4]\n",
      ", Variable containing:\n",
      " 7847.1001  7850.2002  7850.2998  7847.3999\n",
      "[torch.FloatTensor of size 1x4]\n",
      "]\n"
     ]
    }
   ],
   "source": [
    "szInput = 2\n",
    "szHidden = 4\n",
    "szBatch = 1\n",
    "szBptt = 6\n",
    "\n",
    "rnn = nn.RNNCell(szInput, szHidden, nonlinearity='relu')\n",
    "\n",
    "#init rnn with specific data\n",
    "rnn.weight_ih.data = torch.Tensor([[1,2,2,1], [1,2,2,1]]).t()\n",
    "rnn.bias_ih.data= torch.Tensor([0.1,0.2,0.3,0.4])\n",
    "rnn.weight_hh.data.fill_(1)\n",
    "rnn.bias_hh.data.fill_(1)\n",
    "\n",
    "input = Variable(torch.Tensor([[[1,2]],[[1,2]],[[1,2]],[[1,2]],[[1,2]],[[1,2]]]))\n",
    "hx = Variable(torch.Tensor([[0,0,0,0]]))\n",
    " \n",
    "output = []\n",
    "for i in range(szBptt):\n",
    "    hx = rnn(input[i], hx)\n",
    "    output.append( hx)\n",
    "print(output)"
   ]
  },
  {
   "cell_type": "code",
   "execution_count": null,
   "metadata": {
    "collapsed": true
   },
   "outputs": [],
   "source": []
  }
 ],
 "metadata": {
  "kernelspec": {
   "display_name": "Python 3",
   "language": "python",
   "name": "python3"
  },
  "language_info": {
   "codemirror_mode": {
    "name": "ipython",
    "version": 3
   },
   "file_extension": ".py",
   "mimetype": "text/x-python",
   "name": "python",
   "nbconvert_exporter": "python",
   "pygments_lexer": "ipython3",
   "version": "3.5.2"
  }
 },
 "nbformat": 4,
 "nbformat_minor": 2
}
